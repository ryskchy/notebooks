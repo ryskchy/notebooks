{
 "cells": [
  {
   "cell_type": "code",
   "execution_count": 1,
   "metadata": {},
   "outputs": [
    {
     "name": "stdout",
     "output_type": "stream",
     "text": [
      "ひらがな 漢字 ヒエログリフ 楔形文字\n"
     ]
    }
   ],
   "source": [
    "あ = \"ひらがな\"\n",
    "漢 = \"漢字\"\n",
    "𓃻 = \"ヒエログリフ\"\n",
    "def 𒄀():\n",
    "    return \"楔形文字\"\n",
    "\n",
    "\n",
    "print(あ, 漢, 𓃻, 𒄀())"
   ]
  },
  {
   "cell_type": "code",
   "execution_count": 2,
   "metadata": {},
   "outputs": [
    {
     "name": "stdout",
     "output_type": "stream",
     "text": [
      "全角Ａ 全角Ａ\n"
     ]
    }
   ],
   "source": [
    "A = \"半角A\"\n",
    "Ａ = \"全角Ａ\"\n",
    "print(A, Ａ)"
   ]
  },
  {
   "cell_type": "code",
   "execution_count": 3,
   "metadata": {},
   "outputs": [
    {
     "name": "stdout",
     "output_type": "stream",
     "text": [
      "半角ｶﾞ（2文字の変数名） 半角ｶﾞ（2文字の変数名）\n"
     ]
    }
   ],
   "source": [
    "ガ = \"全角ガ（1文字の変数名）\"\n",
    "ｶﾞ = \"半角ｶﾞ（2文字の変数名）\"\n",
    "print(ガ, ｶﾞ)"
   ]
  },
  {
   "cell_type": "code",
   "execution_count": 4,
   "metadata": {},
   "outputs": [
    {
     "name": "stdout",
     "output_type": "stream",
     "text": [
      "Ａ -> A\n",
      "ｶﾞ -> ガ\n"
     ]
    }
   ],
   "source": [
    "import unicodedata\n",
    "\n",
    "def print_normalize(before):\n",
    "    after = unicodedata.normalize(\"NFKC\", before)\n",
    "    print(f\"{before} -> {after}\")\n",
    "\n",
    "print_normalize(\"Ａ\")\n",
    "print_normalize(\"ｶﾞ\")"
   ]
  },
  {
   "cell_type": "code",
   "execution_count": 5,
   "metadata": {},
   "outputs": [
    {
     "name": "stdout",
     "output_type": "stream",
     "text": [
      "㍍ -> メートル\n"
     ]
    }
   ],
   "source": [
    "print_normalize(\"㍍\")"
   ]
  },
  {
   "cell_type": "code",
   "execution_count": 6,
   "metadata": {},
   "outputs": [
    {
     "data": {
      "text/plain": [
       "100"
      ]
     },
     "execution_count": 6,
     "metadata": {},
     "output_type": "execute_result"
    }
   ],
   "source": [
    "メートル = 100\n",
    "メートル"
   ]
  },
  {
   "cell_type": "code",
   "execution_count": 7,
   "metadata": {},
   "outputs": [
    {
     "ename": "SyntaxError",
     "evalue": "invalid character in identifier (<ipython-input-7-704e85bc7d81>, line 2)",
     "output_type": "error",
     "traceback": [
      "\u001b[1;36m  File \u001b[1;32m\"<ipython-input-7-704e85bc7d81>\"\u001b[1;36m, line \u001b[1;32m2\u001b[0m\n\u001b[1;33m    x①=10\u001b[0m\n\u001b[1;37m     ^\u001b[0m\n\u001b[1;31mSyntaxError\u001b[0m\u001b[1;31m:\u001b[0m invalid character in identifier\n"
     ]
    }
   ],
   "source": [
    "x1=10\n",
    "x①=10"
   ]
  },
  {
   "cell_type": "code",
   "execution_count": 8,
   "metadata": {},
   "outputs": [],
   "source": [
    "%reset -f"
   ]
  },
  {
   "cell_type": "code",
   "execution_count": 9,
   "metadata": {},
   "outputs": [
    {
     "data": {
      "text/plain": [
       "dict_keys(['__name__', '__builtin__', '__builtins__', '_ih', '_oh', '_dh', 'In', 'Out', 'get_ipython', 'exit', 'quit', '_i', '_ii', '_iii', '_i9', 'ガギグゲゴ'])"
      ]
     },
     "execution_count": 9,
     "metadata": {},
     "output_type": "execute_result"
    }
   ],
   "source": [
    "ｶﾞｷﾞｸﾞｹﾞｺﾞ = 12345\n",
    "globals().keys()"
   ]
  },
  {
   "cell_type": "code",
   "execution_count": 10,
   "metadata": {},
   "outputs": [
    {
     "name": "stdout",
     "output_type": "stream",
     "text": [
      "12345\n"
     ]
    }
   ],
   "source": [
    "print(ｶﾞｷﾞｸﾞｹﾞｺﾞ)"
   ]
  },
  {
   "cell_type": "code",
   "execution_count": 11,
   "metadata": {},
   "outputs": [
    {
     "name": "stdout",
     "output_type": "stream",
     "text": [
      "12345\n"
     ]
    }
   ],
   "source": [
    "print(ガギグゲゴ)"
   ]
  },
  {
   "cell_type": "code",
   "execution_count": 12,
   "metadata": {},
   "outputs": [
    {
     "name": "stdout",
     "output_type": "stream",
     "text": [
      "代入\n",
      "直接追加\n"
     ]
    }
   ],
   "source": [
    "ｻﾞｼﾞｽﾞｾﾞｿﾞ = \"代入\"\n",
    "globals()[\"ｻﾞｼﾞｽﾞｾﾞｿﾞ\"] = \"直接追加\"\n",
    "print(ｻﾞｼﾞｽﾞｾﾞｿﾞ)\n",
    "print(globals()[\"ｻﾞｼﾞｽﾞｾﾞｿﾞ\"])"
   ]
  },
  {
   "cell_type": "code",
   "execution_count": 13,
   "metadata": {},
   "outputs": [
    {
     "name": "stdout",
     "output_type": "stream",
     "text": [
      "100\n",
      "200\n"
     ]
    }
   ],
   "source": [
    "class SomeClass(object):\n",
    "    def __init__(self, ｶﾞ=100,**kwargs):\n",
    "        self.ｶﾞ = ｶﾞ\n",
    "        for k,v in kwargs.items():\n",
    "            setattr(self, k, v)\n",
    "\n",
    "obj = SomeClass(**{\"ｶﾞ\":200,})\n",
    "print(obj.ｶﾞ)\n",
    "print(getattr(obj, \"ｶﾞ\"))"
   ]
  },
  {
   "cell_type": "code",
   "execution_count": 14,
   "metadata": {},
   "outputs": [],
   "source": [
    "import pandas as pd\n",
    "import numpy as np\n",
    "table = pd.DataFrame(index=range(3),columns=[\"A1\", \"Ａ１\"])\n",
    "table[\"A1\"] = \"半角\"\n",
    "table[\"Ａ１\"] = \"全角\""
   ]
  },
  {
   "cell_type": "code",
   "execution_count": 15,
   "metadata": {},
   "outputs": [
    {
     "data": {
      "text/plain": [
       "0    半角\n",
       "1    半角\n",
       "2    半角\n",
       "Name: A1, dtype: object"
      ]
     },
     "execution_count": 15,
     "metadata": {},
     "output_type": "execute_result"
    }
   ],
   "source": [
    "table.Ａ１"
   ]
  },
  {
   "cell_type": "code",
   "execution_count": 16,
   "metadata": {},
   "outputs": [
    {
     "data": {
      "text/plain": [
       "0    全角\n",
       "1    全角\n",
       "2    全角\n",
       "Name: Ａ１, dtype: object"
      ]
     },
     "execution_count": 16,
     "metadata": {},
     "output_type": "execute_result"
    }
   ],
   "source": [
    "table[\"Ａ１\"]"
   ]
  },
  {
   "cell_type": "code",
   "execution_count": 17,
   "metadata": {},
   "outputs": [
    {
     "name": "stdout",
     "output_type": "stream",
     "text": [
      "10\n"
     ]
    }
   ],
   "source": [
    "from math import pi as π\n",
    "from math import e as ℯ\n",
    "\n",
    "e = 10\n",
    "print(ℯ)"
   ]
  }
 ],
 "metadata": {
  "kernelspec": {
   "display_name": "Python 3",
   "language": "python",
   "name": "python3"
  },
  "language_info": {
   "codemirror_mode": {
    "name": "ipython",
    "version": 3
   },
   "file_extension": ".py",
   "mimetype": "text/x-python",
   "name": "python",
   "nbconvert_exporter": "python",
   "pygments_lexer": "ipython3",
   "version": "3.7.3"
  }
 },
 "nbformat": 4,
 "nbformat_minor": 2
}
